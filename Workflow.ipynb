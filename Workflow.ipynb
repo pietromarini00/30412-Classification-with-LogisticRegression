{
  "nbformat": 4,
  "nbformat_minor": 0,
  "metadata": {
    "colab": {
      "name": "Workflow.ipynb",
      "provenance": [],
      "authorship_tag": "ABX9TyMaySGxxDpL+ZSBrB1ZEVLn",
      "include_colab_link": true
    },
    "kernelspec": {
      "name": "python3",
      "display_name": "Python 3"
    },
    "language_info": {
      "name": "python"
    }
  },
  "cells": [
    {
      "cell_type": "markdown",
      "metadata": {
        "id": "view-in-github",
        "colab_type": "text"
      },
      "source": [
        "<a href=\"https://colab.research.google.com/github/pietromarini00/30412-Classification-with-LogisticRegression/blob/main/Workflow.ipynb\" target=\"_parent\"><img src=\"https://colab.research.google.com/assets/colab-badge.svg\" alt=\"Open In Colab\"/></a>"
      ]
    },
    {
      "cell_type": "markdown",
      "metadata": {
        "id": "xbNLCJxHzyhq"
      },
      "source": [
        "[link text](https://github.com/pietromarini00/30412-Classification-with-LogisticRegression/blob/main/mldata_0003094072.description.txt)"
      ]
    },
    {
      "cell_type": "code",
      "metadata": {
        "id": "C2g3obzNzSEG"
      },
      "source": [
        ""
      ],
      "execution_count": null,
      "outputs": []
    }
  ]
}