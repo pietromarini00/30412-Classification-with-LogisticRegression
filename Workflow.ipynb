{
  "nbformat": 4,
  "nbformat_minor": 0,
  "metadata": {
    "colab": {
      "name": "Copy of Workflow.ipynb",
      "provenance": [],
      "toc_visible": true,
      "authorship_tag": "ABX9TyMbTXoVpNTXhayPusbB7M+z",
      "include_colab_link": true
    },
    "kernelspec": {
      "name": "python3",
      "display_name": "Python 3"
    },
    "language_info": {
      "name": "python"
    }
  },
  "cells": [
    {
      "cell_type": "markdown",
      "metadata": {
        "id": "view-in-github",
        "colab_type": "text"
      },
      "source": [
        "<a href=\"https://colab.research.google.com/github/pietromarini00/30412-Classification-with-LogisticRegression/blob/main/Workflow.ipynb\" target=\"_parent\"><img src=\"https://colab.research.google.com/assets/colab-badge.svg\" alt=\"Open In Colab\"/></a>"
      ]
    },
    {
      "cell_type": "markdown",
      "metadata": {
        "id": "iPv478kwTBPT"
      },
      "source": [
        "# DESCRIPTON"
      ]
    },
    {
      "cell_type": "markdown",
      "metadata": {
        "id": "JkPitGEqOLE7"
      },
      "source": [
        "\n",
        "----------\n",
        "\n",
        "This dataset is composed of 1200 samples with 35 features each. The first column\n",
        "is the sample id. The second column in the dataset represents the label. There\n",
        "are 5 possible values for the labels. The remaining columns are numeric\n",
        "features.\n",
        "\n",
        "Your task is the following: assuming that you want to classify this data with\n",
        "Logistic Regression (implemented by sklearn.linear_model.LogisticRegression),\n",
        "you should determine whether applying PCA to this dataset is useful, and if so\n",
        "what number of components you would choose to use. At the end of the analysis,\n",
        "you should have chosen an optimal strategy, including the optimal set of\n",
        "parameters for the classifier: write this choice explicitly in the conclusions\n",
        "of your notebook.\n",
        "\n",
        "Your notebook should detail the procedure you have used to choose the optimal\n",
        "parameters (graphs are a good idea when possible/sensible).\n",
        "\n",
        "The notebook will be evaluated not only based on the final results, but also on\n",
        "the procedure employed, which should balance practical considerations (one may\n",
        "not be able to exhaustively explore all possible combinations of the parameters)\n",
        "with the desire for achieving the best possible performance in the least amount\n",
        "of time.\n",
        "\n",
        "Bonus points may be assigned for particularly clean/nifty code and/or well-\n",
        "presented results.\n",
        "\n",
        "You are also free to attempt other strategies beyond the one in the assignment\n",
        "(which however is mandatory!)."
      ]
    },
    {
      "cell_type": "markdown",
      "metadata": {
        "id": "h9EngIhQObqX"
      },
      "source": [
        "# Import Packages and Data"
      ]
    },
    {
      "cell_type": "code",
      "metadata": {
        "id": "nmD1wZ8WOVfu"
      },
      "source": [
        "import pandas as pd\n",
        "import numpy as np\n",
        "\n",
        "from scipy.stats import loguniform\n",
        "\n",
        "from sklearn.preprocessing import MinMaxScaler\n",
        "from sklearn.preprocessing import MaxAbsScaler\n",
        "from sklearn.preprocessing import StandardScaler\n",
        "from sklearn.preprocessing import OneHotEncoder\n",
        "\n",
        "import seaborn as sns\n",
        "import matplotlib.pyplot as plt\n",
        "\n",
        "from sklearn.datasets import make_classification\n",
        "from sklearn.model_selection import KFold\n",
        "from sklearn.model_selection import cross_val_score\n",
        "from sklearn.model_selection import train_test_split\n",
        "from sklearn.model_selection import RandomizedSearchCV\n",
        "from sklearn.model_selection import GridSearchCV\n",
        "from sklearn.model_selection import RepeatedStratifiedKFold\n",
        "from sklearn.pipeline import Pipeline\n",
        "\n",
        "from sklearn.metrics import mean_squared_error\n",
        "from sklearn.metrics import make_scorer\n",
        "from sklearn.metrics import accuracy_score\n",
        "from sklearn.metrics import classification_report\n",
        "from sklearn.metrics import confusion_matrix\n",
        "\n",
        "from sklearn.linear_model import LogisticRegression\n",
        "from sklearn.decomposition import PCA\n",
        "from sklearn.svm import SVC\n",
        "from xgboost import XGBClassifier\n",
        "from sklearn.ensemble import RandomForestClassifier\n",
        "from keras.wrappers.scikit_learn import KerasClassifier\n",
        "\n",
        "from keras.models import Sequential\n",
        "from keras.layers import Dense\n",
        "from tensorflow.keras.layers import LSTM\n",
        "\n",
        "\n",
        "Data = pd.read_csv('mldata_0003094072.csv')"
      ],
      "execution_count": 283,
      "outputs": []
    },
    {
      "cell_type": "markdown",
      "metadata": {
        "id": "6MwzFyfmS5u2"
      },
      "source": [
        "# Data Preparation and Visualization"
      ]
    },
    {
      "cell_type": "code",
      "metadata": {
        "id": "ZXgbxOPjQmvf"
      },
      "source": [
        "labels = Data['label']\n",
        "features = Data.drop(columns=['Unnamed: 0','label'])"
      ],
      "execution_count": 244,
      "outputs": []
    },
    {
      "cell_type": "code",
      "metadata": {
        "id": "AjsU9cCMrZur",
        "colab": {
          "base_uri": "https://localhost:8080/",
          "height": 1000
        },
        "outputId": "a4e1ba79-0dba-4a15-c2fa-e2d54e3d9ce0"
      },
      "source": [
        "features.hist(figsize=(15,9), layout=(7,5))"
      ],
      "execution_count": 245,
      "outputs": [
        {
          "output_type": "execute_result",
          "data": {
            "text/plain": [
              "array([[<matplotlib.axes._subplots.AxesSubplot object at 0x7fdb9ecc2750>,\n",
              "        <matplotlib.axes._subplots.AxesSubplot object at 0x7fdb9eceab90>,\n",
              "        <matplotlib.axes._subplots.AxesSubplot object at 0x7fdb9eb05710>,\n",
              "        <matplotlib.axes._subplots.AxesSubplot object at 0x7fdb9eab8d90>,\n",
              "        <matplotlib.axes._subplots.AxesSubplot object at 0x7fdb9eaefe90>],\n",
              "       [<matplotlib.axes._subplots.AxesSubplot object at 0x7fdb9eaac450>,\n",
              "        <matplotlib.axes._subplots.AxesSubplot object at 0x7fdb9ea60a50>,\n",
              "        <matplotlib.axes._subplots.AxesSubplot object at 0x7fdb9ea13f10>,\n",
              "        <matplotlib.axes._subplots.AxesSubplot object at 0x7fdb9ea13f50>,\n",
              "        <matplotlib.axes._subplots.AxesSubplot object at 0x7fdb9e9d0610>],\n",
              "       [<matplotlib.axes._subplots.AxesSubplot object at 0x7fdb9e94a1d0>,\n",
              "        <matplotlib.axes._subplots.AxesSubplot object at 0x7fdb9e8f6610>,\n",
              "        <matplotlib.axes._subplots.AxesSubplot object at 0x7fdb9e928b90>,\n",
              "        <matplotlib.axes._subplots.AxesSubplot object at 0x7fdb9e8e6110>,\n",
              "        <matplotlib.axes._subplots.AxesSubplot object at 0x7fdb9e899690>],\n",
              "       [<matplotlib.axes._subplots.AxesSubplot object at 0x7fdb9e849c50>,\n",
              "        <matplotlib.axes._subplots.AxesSubplot object at 0x7fdb9e808210>,\n",
              "        <matplotlib.axes._subplots.AxesSubplot object at 0x7fdb9e7bc790>,\n",
              "        <matplotlib.axes._subplots.AxesSubplot object at 0x7fdb9e7eed10>,\n",
              "        <matplotlib.axes._subplots.AxesSubplot object at 0x7fdb9e7ae2d0>],\n",
              "       [<matplotlib.axes._subplots.AxesSubplot object at 0x7fdb9e760850>,\n",
              "        <matplotlib.axes._subplots.AxesSubplot object at 0x7fdb9e713dd0>,\n",
              "        <matplotlib.axes._subplots.AxesSubplot object at 0x7fdb9e6d2390>,\n",
              "        <matplotlib.axes._subplots.AxesSubplot object at 0x7fdb9e684910>,\n",
              "        <matplotlib.axes._subplots.AxesSubplot object at 0x7fdb9e638e90>],\n",
              "       [<matplotlib.axes._subplots.AxesSubplot object at 0x7fdb9e5f5450>,\n",
              "        <matplotlib.axes._subplots.AxesSubplot object at 0x7fdb9e6269d0>,\n",
              "        <matplotlib.axes._subplots.AxesSubplot object at 0x7fdb9e5dcf50>,\n",
              "        <matplotlib.axes._subplots.AxesSubplot object at 0x7fdb9e59a510>,\n",
              "        <matplotlib.axes._subplots.AxesSubplot object at 0x7fdb9e54ca90>],\n",
              "       [<matplotlib.axes._subplots.AxesSubplot object at 0x7fdb9e500fd0>,\n",
              "        <matplotlib.axes._subplots.AxesSubplot object at 0x7fdb9e4be5d0>,\n",
              "        <matplotlib.axes._subplots.AxesSubplot object at 0x7fdb9e4f0b50>,\n",
              "        <matplotlib.axes._subplots.AxesSubplot object at 0x7fdb9e4b0110>,\n",
              "        <matplotlib.axes._subplots.AxesSubplot object at 0x7fdb9e461690>]],\n",
              "      dtype=object)"
            ]
          },
          "metadata": {
            "tags": []
          },
          "execution_count": 245
        },
        {
          "output_type": "display_data",
          "data": {
            "image/png": "[encoded data removed]",
            "text/plain": [
              "<Figure size 1080x648 with 35 Axes>"
            ]
          },
          "metadata": {
            "tags": [],
            "needs_background": "light"
          }
        }
      ]
    },
    {
      "cell_type": "markdown",
      "metadata": {
        "id": "nfuF6SQo3CGu"
      },
      "source": [
        "Data Already looks Normally distributed, should we still go for a rescaling?"
      ]
    },
    {
      "cell_type": "code",
      "metadata": {
        "id": "wCJmyHLbreKl",
        "colab": {
          "base_uri": "https://localhost:8080/",
          "height": 282
        },
        "outputId": "568f3999-46af-488c-b471-846f30de1568"
      },
      "source": [
        "labels.hist()"
      ],
      "execution_count": 246,
      "outputs": [
        {
          "output_type": "execute_result",
          "data": {
            "text/plain": [
              "<matplotlib.axes._subplots.AxesSubplot at 0x7fdb9ddd8250>"
            ]
          },
          "metadata": {
            "tags": []
          },
          "execution_count": 246
        },
        {
          "output_type": "display_data",
          "data": {
            "image/png": "[encoded data removed]",
            "text/plain": [
              "<Figure size 432x288 with 1 Axes>"
            ]
          },
          "metadata": {
            "tags": [],
            "needs_background": "light"
          }
        }
      ]
    },
    {
      "cell_type": "markdown",
      "metadata": {
        "id": "QpvONaaMe-58"
      },
      "source": [
        "Classes are almost perfectly balanced, it is not really necessary to use stratified sampling, but we never know, so I tried it too, and found out it delivers very similar (but slightly worse) results"
      ]
    },
    {
      "cell_type": "code",
      "metadata": {
        "colab": {
          "base_uri": "https://localhost:8080/",
          "height": 541
        },
        "id": "i9ZVSMPHtQ6D",
        "outputId": "66d4279e-be58-4629-c43f-ebd0c97117fb"
      },
      "source": [
        "def correlation(features,df):\n",
        "  y = pd.get_dummies(df.label, prefix='label')\n",
        "  target_cols= np.arange(features.shape[1],features.shape[1]+y.shape[1])\n",
        "  np_features = features.to_numpy()\n",
        "  matrix = np.append(np_features,y, axis=1) \n",
        "  df = pd.DataFrame(matrix)\n",
        "  corr_matrix = df.corr()\n",
        "  map=[]\n",
        "  for i in target_cols:\n",
        "    most_correlated_features = corr_matrix[i].values.reshape(features.shape[1]+y.shape[1],1)\n",
        "    map.append(most_correlated_features)\n",
        "    #print(corr_matrix[i].sort_values(ascending=False))\n",
        "  map = np.array(map).reshape(40,5)\n",
        "  fig, ax = plt.subplots(figsize=(15,9))\n",
        "  sns.heatmap(map, annot=True,ax=ax,cmap='viridis')\n",
        "correlation(features,Data)"
      ],
      "execution_count": 247,
      "outputs": [
        {
          "output_type": "display_data",
          "data": {
            "image/png": "[encoded data removed]",
            "text/plain": [
              "<Figure size 1080x648 with 2 Axes>"
            ]
          },
          "metadata": {
            "tags": [],
            "needs_background": "light"
          }
        }
      ]
    },
    {
      "cell_type": "code",
      "metadata": {
        "id": "Mj6JmF6rtCf6",
        "colab": {
          "base_uri": "https://localhost:8080/",
          "height": 317
        },
        "outputId": "35faf6a6-f603-4113-ee23-970883fb9d23"
      },
      "source": [
        "features.describe()"
      ],
      "execution_count": 248,
      "outputs": [
        {
          "output_type": "execute_result",
          "data": {
            "text/html": [
              "<div>\n",
              "<style scoped>\n",
              "    .dataframe tbody tr th:only-of-type {\n",
              "        vertical-align: middle;\n",
              "    }\n",
              "\n",
              "    .dataframe tbody tr th {\n",
              "        vertical-align: top;\n",
              "    }\n",
              "\n",
              "    .dataframe thead th {\n",
              "        text-align: right;\n",
              "    }\n",
              "</style>\n",
              "<table border=\"1\" class=\"dataframe\">\n",
              "  <thead>\n",
              "    <tr style=\"text-align: right;\">\n",
              "      <th></th>\n",
              "      <th>feature_1</th>\n",
              "      <th>feature_2</th>\n",
              "      <th>feature_3</th>\n",
              "      <th>feature_4</th>\n",
              "      <th>feature_5</th>\n",
              "      <th>feature_6</th>\n",
              "      <th>feature_7</th>\n",
              "      <th>feature_8</th>\n",
              "      <th>feature_9</th>\n",
              "      <th>feature_10</th>\n",
              "      <th>feature_11</th>\n",
              "      <th>feature_12</th>\n",
              "      <th>feature_13</th>\n",
              "      <th>feature_14</th>\n",
              "      <th>feature_15</th>\n",
              "      <th>feature_16</th>\n",
              "      <th>feature_17</th>\n",
              "      <th>feature_18</th>\n",
              "      <th>feature_19</th>\n",
              "      <th>feature_20</th>\n",
              "      <th>feature_21</th>\n",
              "      <th>feature_22</th>\n",
              "      <th>feature_23</th>\n",
              "      <th>feature_24</th>\n",
              "      <th>feature_25</th>\n",
              "      <th>feature_26</th>\n",
              "      <th>feature_27</th>\n",
              "      <th>feature_28</th>\n",
              "      <th>feature_29</th>\n",
              "      <th>feature_30</th>\n",
              "      <th>feature_31</th>\n",
              "      <th>feature_32</th>\n",
              "      <th>feature_33</th>\n",
              "      <th>feature_34</th>\n",
              "      <th>feature_35</th>\n",
              "    </tr>\n",
              "  </thead>\n",
              "  <tbody>\n",
              "    <tr>\n",
              "      <th>count</th>\n",
              "      <td>1200.000000</td>\n",
              "      <td>1200.000000</td>\n",
              "      <td>1200.000000</td>\n",
              "      <td>1200.000000</td>\n",
              "      <td>1200.000000</td>\n",
              "      <td>1200.000000</td>\n",
              "      <td>1200.000000</td>\n",
              "      <td>1200.000000</td>\n",
              "      <td>1200.000000</td>\n",
              "      <td>1200.000000</td>\n",
              "      <td>1200.000000</td>\n",
              "      <td>1200.000000</td>\n",
              "      <td>1200.000000</td>\n",
              "      <td>1200.000000</td>\n",
              "      <td>1200.000000</td>\n",
              "      <td>1200.000000</td>\n",
              "      <td>1200.000000</td>\n",
              "      <td>1200.000000</td>\n",
              "      <td>1200.000000</td>\n",
              "      <td>1200.000000</td>\n",
              "      <td>1200.000000</td>\n",
              "      <td>1200.000000</td>\n",
              "      <td>1200.000000</td>\n",
              "      <td>1200.000000</td>\n",
              "      <td>1200.000000</td>\n",
              "      <td>1200.000000</td>\n",
              "      <td>1200.000000</td>\n",
              "      <td>1200.000000</td>\n",
              "      <td>1200.000000</td>\n",
              "      <td>1200.000000</td>\n",
              "      <td>1200.000000</td>\n",
              "      <td>1200.000000</td>\n",
              "      <td>1200.000000</td>\n",
              "      <td>1200.000000</td>\n",
              "      <td>1200.000000</td>\n",
              "    </tr>\n",
              "    <tr>\n",
              "      <th>mean</th>\n",
              "      <td>0.537747</td>\n",
              "      <td>0.599903</td>\n",
              "      <td>0.094714</td>\n",
              "      <td>0.437445</td>\n",
              "      <td>-0.287543</td>\n",
              "      <td>0.100894</td>\n",
              "      <td>0.157844</td>\n",
              "      <td>0.343041</td>\n",
              "      <td>0.083273</td>\n",
              "      <td>0.089775</td>\n",
              "      <td>-0.013457</td>\n",
              "      <td>0.407371</td>\n",
              "      <td>0.077296</td>\n",
              "      <td>0.110119</td>\n",
              "      <td>-0.009338</td>\n",
              "      <td>0.536562</td>\n",
              "      <td>-0.077199</td>\n",
              "      <td>0.155439</td>\n",
              "      <td>-0.008091</td>\n",
              "      <td>-0.714729</td>\n",
              "      <td>0.848633</td>\n",
              "      <td>-0.286941</td>\n",
              "      <td>0.249582</td>\n",
              "      <td>0.452351</td>\n",
              "      <td>0.067481</td>\n",
              "      <td>-0.831427</td>\n",
              "      <td>0.071756</td>\n",
              "      <td>-0.672589</td>\n",
              "      <td>0.124797</td>\n",
              "      <td>-0.452592</td>\n",
              "      <td>0.113184</td>\n",
              "      <td>0.045397</td>\n",
              "      <td>-0.119103</td>\n",
              "      <td>0.071709</td>\n",
              "      <td>-0.010214</td>\n",
              "    </tr>\n",
              "    <tr>\n",
              "      <th>std</th>\n",
              "      <td>8.280886</td>\n",
              "      <td>4.158050</td>\n",
              "      <td>0.694315</td>\n",
              "      <td>4.373206</td>\n",
              "      <td>4.068543</td>\n",
              "      <td>2.323017</td>\n",
              "      <td>1.008751</td>\n",
              "      <td>10.749965</td>\n",
              "      <td>1.160246</td>\n",
              "      <td>0.601856</td>\n",
              "      <td>1.917890</td>\n",
              "      <td>1.599477</td>\n",
              "      <td>1.397480</td>\n",
              "      <td>0.905573</td>\n",
              "      <td>0.138374</td>\n",
              "      <td>3.535027</td>\n",
              "      <td>2.755736</td>\n",
              "      <td>1.115841</td>\n",
              "      <td>3.352445</td>\n",
              "      <td>2.870847</td>\n",
              "      <td>4.090681</td>\n",
              "      <td>10.346132</td>\n",
              "      <td>1.500818</td>\n",
              "      <td>3.628688</td>\n",
              "      <td>0.657344</td>\n",
              "      <td>8.941232</td>\n",
              "      <td>0.623488</td>\n",
              "      <td>4.794596</td>\n",
              "      <td>2.670211</td>\n",
              "      <td>2.785172</td>\n",
              "      <td>3.394775</td>\n",
              "      <td>9.186563</td>\n",
              "      <td>3.940853</td>\n",
              "      <td>0.827774</td>\n",
              "      <td>4.232406</td>\n",
              "    </tr>\n",
              "    <tr>\n",
              "      <th>min</th>\n",
              "      <td>-27.927444</td>\n",
              "      <td>-12.994024</td>\n",
              "      <td>-2.235127</td>\n",
              "      <td>-17.719503</td>\n",
              "      <td>-12.543721</td>\n",
              "      <td>-7.197453</td>\n",
              "      <td>-4.146284</td>\n",
              "      <td>-38.740429</td>\n",
              "      <td>-4.272391</td>\n",
              "      <td>-2.014612</td>\n",
              "      <td>-7.379815</td>\n",
              "      <td>-5.174015</td>\n",
              "      <td>-4.817577</td>\n",
              "      <td>-2.806012</td>\n",
              "      <td>-0.450353</td>\n",
              "      <td>-10.732117</td>\n",
              "      <td>-9.000173</td>\n",
              "      <td>-4.038802</td>\n",
              "      <td>-11.559353</td>\n",
              "      <td>-9.549318</td>\n",
              "      <td>-14.475878</td>\n",
              "      <td>-33.538971</td>\n",
              "      <td>-3.989719</td>\n",
              "      <td>-12.359812</td>\n",
              "      <td>-2.494318</td>\n",
              "      <td>-28.280245</td>\n",
              "      <td>-2.309615</td>\n",
              "      <td>-16.699334</td>\n",
              "      <td>-8.255329</td>\n",
              "      <td>-9.632036</td>\n",
              "      <td>-10.322071</td>\n",
              "      <td>-30.754219</td>\n",
              "      <td>-12.693954</td>\n",
              "      <td>-2.348815</td>\n",
              "      <td>-14.593491</td>\n",
              "    </tr>\n",
              "    <tr>\n",
              "      <th>25%</th>\n",
              "      <td>-4.814249</td>\n",
              "      <td>-2.000171</td>\n",
              "      <td>-0.353134</td>\n",
              "      <td>-2.617755</td>\n",
              "      <td>-2.979183</td>\n",
              "      <td>-1.427281</td>\n",
              "      <td>-0.522847</td>\n",
              "      <td>-6.862036</td>\n",
              "      <td>-0.683507</td>\n",
              "      <td>-0.319334</td>\n",
              "      <td>-1.295812</td>\n",
              "      <td>-0.642718</td>\n",
              "      <td>-0.850135</td>\n",
              "      <td>-0.524722</td>\n",
              "      <td>-0.103660</td>\n",
              "      <td>-1.915450</td>\n",
              "      <td>-1.972813</td>\n",
              "      <td>-0.608140</td>\n",
              "      <td>-2.286750</td>\n",
              "      <td>-2.640615</td>\n",
              "      <td>-1.988146</td>\n",
              "      <td>-7.240400</td>\n",
              "      <td>-0.732849</td>\n",
              "      <td>-1.887101</td>\n",
              "      <td>-0.367372</td>\n",
              "      <td>-6.916969</td>\n",
              "      <td>-0.349212</td>\n",
              "      <td>-3.885086</td>\n",
              "      <td>-1.649932</td>\n",
              "      <td>-2.341065</td>\n",
              "      <td>-2.050383</td>\n",
              "      <td>-6.264539</td>\n",
              "      <td>-2.924524</td>\n",
              "      <td>-0.507311</td>\n",
              "      <td>-2.886984</td>\n",
              "    </tr>\n",
              "    <tr>\n",
              "      <th>50%</th>\n",
              "      <td>0.467960</td>\n",
              "      <td>0.838226</td>\n",
              "      <td>0.067960</td>\n",
              "      <td>0.578034</td>\n",
              "      <td>-0.320604</td>\n",
              "      <td>0.145843</td>\n",
              "      <td>0.189564</td>\n",
              "      <td>0.481231</td>\n",
              "      <td>0.062131</td>\n",
              "      <td>0.067138</td>\n",
              "      <td>-0.000821</td>\n",
              "      <td>0.411820</td>\n",
              "      <td>0.060772</td>\n",
              "      <td>0.116987</td>\n",
              "      <td>-0.013843</td>\n",
              "      <td>0.422070</td>\n",
              "      <td>-0.021565</td>\n",
              "      <td>0.180173</td>\n",
              "      <td>-0.021096</td>\n",
              "      <td>-0.749884</td>\n",
              "      <td>0.783918</td>\n",
              "      <td>-0.181956</td>\n",
              "      <td>0.210384</td>\n",
              "      <td>0.391307</td>\n",
              "      <td>0.071825</td>\n",
              "      <td>-0.639388</td>\n",
              "      <td>0.059726</td>\n",
              "      <td>-0.792753</td>\n",
              "      <td>0.157200</td>\n",
              "      <td>-0.432930</td>\n",
              "      <td>0.021544</td>\n",
              "      <td>-0.058583</td>\n",
              "      <td>-0.091578</td>\n",
              "      <td>0.063345</td>\n",
              "      <td>-0.026633</td>\n",
              "    </tr>\n",
              "    <tr>\n",
              "      <th>75%</th>\n",
              "      <td>6.106173</td>\n",
              "      <td>3.336066</td>\n",
              "      <td>0.565964</td>\n",
              "      <td>3.419695</td>\n",
              "      <td>2.462689</td>\n",
              "      <td>1.655129</td>\n",
              "      <td>0.805694</td>\n",
              "      <td>7.615251</td>\n",
              "      <td>0.871378</td>\n",
              "      <td>0.503978</td>\n",
              "      <td>1.251955</td>\n",
              "      <td>1.493330</td>\n",
              "      <td>0.975052</td>\n",
              "      <td>0.752544</td>\n",
              "      <td>0.087456</td>\n",
              "      <td>2.788507</td>\n",
              "      <td>1.815663</td>\n",
              "      <td>0.893509</td>\n",
              "      <td>2.340174</td>\n",
              "      <td>1.102171</td>\n",
              "      <td>3.549060</td>\n",
              "      <td>6.695453</td>\n",
              "      <td>1.301859</td>\n",
              "      <td>2.937969</td>\n",
              "      <td>0.544379</td>\n",
              "      <td>5.278754</td>\n",
              "      <td>0.463303</td>\n",
              "      <td>2.462328</td>\n",
              "      <td>1.888801</td>\n",
              "      <td>1.344736</td>\n",
              "      <td>2.434800</td>\n",
              "      <td>6.378856</td>\n",
              "      <td>2.525585</td>\n",
              "      <td>0.621703</td>\n",
              "      <td>2.954431</td>\n",
              "    </tr>\n",
              "    <tr>\n",
              "      <th>max</th>\n",
              "      <td>26.883436</td>\n",
              "      <td>15.971686</td>\n",
              "      <td>2.491952</td>\n",
              "      <td>14.810534</td>\n",
              "      <td>12.561359</td>\n",
              "      <td>9.019687</td>\n",
              "      <td>3.397375</td>\n",
              "      <td>27.545013</td>\n",
              "      <td>3.771634</td>\n",
              "      <td>2.302004</td>\n",
              "      <td>6.523992</td>\n",
              "      <td>5.160566</td>\n",
              "      <td>6.112456</td>\n",
              "      <td>3.159713</td>\n",
              "      <td>0.403436</td>\n",
              "      <td>10.723347</td>\n",
              "      <td>8.888041</td>\n",
              "      <td>3.690058</td>\n",
              "      <td>9.606745</td>\n",
              "      <td>11.275957</td>\n",
              "      <td>14.917117</td>\n",
              "      <td>37.235678</td>\n",
              "      <td>5.217805</td>\n",
              "      <td>10.610519</td>\n",
              "      <td>1.920238</td>\n",
              "      <td>24.104058</td>\n",
              "      <td>2.144743</td>\n",
              "      <td>15.611492</td>\n",
              "      <td>9.313357</td>\n",
              "      <td>8.662238</td>\n",
              "      <td>12.857374</td>\n",
              "      <td>32.736197</td>\n",
              "      <td>15.655862</td>\n",
              "      <td>2.689480</td>\n",
              "      <td>12.128355</td>\n",
              "    </tr>\n",
              "  </tbody>\n",
              "</table>\n",
              "</div>"
            ],
            "text/plain": [
              "         feature_1    feature_2  ...   feature_34   feature_35\n",
              "count  1200.000000  1200.000000  ...  1200.000000  1200.000000\n",
              "mean      0.537747     0.599903  ...     0.071709    -0.010214\n",
              "std       8.280886     4.158050  ...     0.827774     4.232406\n",
              "min     -27.927444   -12.994024  ...    -2.348815   -14.593491\n",
              "25%      -4.814249    -2.000171  ...    -0.507311    -2.886984\n",
              "50%       0.467960     0.838226  ...     0.063345    -0.026633\n",
              "75%       6.106173     3.336066  ...     0.621703     2.954431\n",
              "max      26.883436    15.971686  ...     2.689480    12.128355\n",
              "\n",
              "[8 rows x 35 columns]"
            ]
          },
          "metadata": {
            "tags": []
          },
          "execution_count": 248
        }
      ]
    },
    {
      "cell_type": "markdown",
      "metadata": {
        "id": "YYhPnEd_wSDz"
      },
      "source": [
        "# Preprocessing: Scaling \n",
        "\n",
        "Since the data is not standardized, maybe a scaling could improve the performance, we will try with and without"
      ]
    },
    {
      "cell_type": "code",
      "metadata": {
        "id": "RBpVLlSbuMxr"
      },
      "source": [
        "scaler = MaxAbsScaler()\n",
        "# transform data\n",
        "features = scaler.fit_transform(features)"
      ],
      "execution_count": 250,
      "outputs": []
    },
    {
      "cell_type": "markdown",
      "metadata": {
        "id": "3Fea3A2BbIOO"
      },
      "source": [
        "# Evaluate"
      ]
    },
    {
      "cell_type": "code",
      "metadata": {
        "id": "3tJENCg0wNdG"
      },
      "source": [
        "X, y = features, labels"
      ],
      "execution_count": 251,
      "outputs": []
    },
    {
      "cell_type": "markdown",
      "metadata": {
        "id": "3168xZhybp9-"
      },
      "source": [
        "we first run the model with default parameters to have a baseline for its performance"
      ]
    },
    {
      "cell_type": "code",
      "metadata": {
        "id": "bAytEvD-wjp6",
        "colab": {
          "base_uri": "https://localhost:8080/"
        },
        "outputId": "8da8406e-d052-497b-deb9-f88d6ebb1dba"
      },
      "source": [
        "cv = KFold(n_splits=20, random_state=1, shuffle=True)\n",
        "model = LogisticRegression()\n",
        "scores = cross_val_score(model, X, y, scoring='accuracy', cv=cv, n_jobs=-1)\n",
        "# report performance\n",
        "print('Accuracy: %.3f (%.3f)' % (np.mean(scores), np.std(scores)))"
      ],
      "execution_count": 252,
      "outputs": [
        {
          "output_type": "stream",
          "text": [
            "Accuracy: 0.538 (0.041)\n"
          ],
          "name": "stdout"
        }
      ]
    },
    {
      "cell_type": "markdown",
      "metadata": {
        "id": "ezUMyQp0yIEv"
      },
      "source": [
        "The multinomial logistic regression model will be fit using cross-entropy loss and will predict the integer value for each integer encoded class label.\n",
        "It sucks tho\n",
        "Let's try with PCA"
      ]
    },
    {
      "cell_type": "markdown",
      "metadata": {
        "id": "HSDpjVUVcLLR"
      },
      "source": [
        "# Principal Component Analysis\n",
        "\n",
        "Principal Component Analysis (PCA) is one of the most popular machine learning technique. It reduces the dimension of a given data set, making the data set more approachable and computationally cheaper to handle, while preserving most patterns and trends. This makes PCA an excellent tool for exploratory data analysis.\n",
        "\n",
        "However, we claim that using PCA in supervised learning tasks, in particular in a pipeline such as:\n",
        " data → PCA → supervised learning algorithm\n",
        "usually does more harm than good\n",
        "\n",
        "PCA is still quite susceptible to throwing strong classification signals away.\n",
        "\n",
        "from https://towardsdatascience.com/think-twice-before-you-use-principal-component-analysis-in-supervised-learning-tasks-70fbb68ebd0c"
      ]
    },
    {
      "cell_type": "code",
      "metadata": {
        "id": "i6J8v4ztiGEi"
      },
      "source": [
        "X = features\n",
        "svd = np.linalg.svd\n",
        "def get_optimal_number_of_components():\n",
        "    cov = np.dot(X,X.transpose())/float(X.shape[0])\n",
        "    U,s,v = svd(cov)\n",
        "\n",
        "    S_nn = sum(s)\n",
        "\n",
        "    for num_components in range(0,s.shape[0]):\n",
        "        temp_s = s[0:num_components]\n",
        "        S_ii = sum(temp_s)\n",
        "        if (1 - S_ii/float(S_nn)) <= 0.01:\n",
        "            return num_components\n",
        "\n",
        "    return s.shape[0]"
      ],
      "execution_count": 253,
      "outputs": []
    },
    {
      "cell_type": "code",
      "metadata": {
        "colab": {
          "base_uri": "https://localhost:8080/"
        },
        "id": "UYxZ-7dHcXNJ",
        "outputId": "2fe64ac9-04f1-432c-f709-9dc3d0f09093"
      },
      "source": [
        "n_comp = get_optimal_number_of_components()\n",
        "print ('optimal number of components = ', n_comp)\n",
        "\n",
        "pca = PCA(n_components = n_comp)\n",
        "X_new = pca.fit_transform(features)"
      ],
      "execution_count": 254,
      "outputs": [
        {
          "output_type": "stream",
          "text": [
            "optimal number of components =  29\n"
          ],
          "name": "stdout"
        }
      ]
    },
    {
      "cell_type": "code",
      "metadata": {
        "id": "NHRUg7fUyLs2",
        "colab": {
          "base_uri": "https://localhost:8080/"
        },
        "outputId": "bcfe3c01-bbbe-4a33-f953-a57a1baa6604"
      },
      "source": [
        "X_new.shape"
      ],
      "execution_count": 217,
      "outputs": [
        {
          "output_type": "execute_result",
          "data": {
            "text/plain": [
              "(1200, 29)"
            ]
          },
          "metadata": {
            "tags": []
          },
          "execution_count": 217
        }
      ]
    },
    {
      "cell_type": "markdown",
      "metadata": {
        "id": "T4uCMFCJISYt"
      },
      "source": [
        "PCA does not have negative effect on predictions, the Accuracy is exactly the same, but since the size of the dataset is reduced, the training and the optimization time is cut by a significant amount, even though the reduction only compresses 35 dimensions into 29 not to lose classification signal."
      ]
    },
    {
      "cell_type": "markdown",
      "metadata": {
        "id": "DXuY5kkHzsJp"
      },
      "source": [
        "# Hyperparameter Tuning"
      ]
    },
    {
      "cell_type": "code",
      "metadata": {
        "colab": {
          "base_uri": "https://localhost:8080/"
        },
        "id": "i5wkCCrFS6QP",
        "outputId": "80d122e4-6384-4053-d4cb-37ff422a8007"
      },
      "source": [
        "# define model\n",
        "model = LogisticRegression()\n",
        "# define evaluation\n",
        "cv = KFold(n_splits=20, random_state=1, shuffle=True)\n",
        "#cv = RepeatedStratifiedKFold(n_splits=10, n_repeats=3, random_state=1)\n",
        "\n",
        "# define search space\n",
        "space = dict()\n",
        "space['solver'] = ['newton-cg', 'lbfgs', 'liblinear']\n",
        "space['penalty'] = ['l1', 'l2']\n",
        "space['C'] = loguniform(1e-5, 100)\n",
        "space['multi_class'] = ['ovr','multinomial']\n",
        "# define search\n",
        "search = RandomizedSearchCV(model, space, n_iter=500, scoring='accuracy', n_jobs=-1, cv=cv, random_state=1)\n",
        "# execute search\n",
        "result = search.fit(X_new, y)\n",
        "# summarize result\n",
        "print('Best Score: %s' % result.best_score_)\n",
        "print('Best Hyperparameters: %s' % result.best_params_)\n",
        "# print out the results of the randomized search"
      ],
      "execution_count": 255,
      "outputs": [
        {
          "output_type": "stream",
          "text": [
            "Best Score: 0.5441666666666667\n",
            "Best Hyperparameters: {'C': 1.2586407337959669, 'multi_class': 'ovr', 'penalty': 'l2', 'solver': 'newton-cg'}\n"
          ],
          "name": "stdout"
        }
      ]
    },
    {
      "cell_type": "markdown",
      "metadata": {
        "id": "MwwoLyf-eTDj"
      },
      "source": [
        "Best Score: 0.5441666666666667\n",
        "Best Hyperparameters: {'C': 0.4152561875287414, 'penalty': 'l2', 'solver': 'liblinear'}"
      ]
    },
    {
      "cell_type": "code",
      "metadata": {
        "colab": {
          "base_uri": "https://localhost:8080/"
        },
        "id": "N5qamXO-jUyR",
        "outputId": "9eeac6dd-d767-46cc-a7fc-299e0f581ddf"
      },
      "source": [
        "def print_10_best(result):\n",
        "  best_10 = np.array(result.cv_results_['rank_test_score'][:10], dtype=int)\n",
        "  for i in range(10):\n",
        "    print(result.cv_results_['mean_test_score'][best_10[i]])\n",
        "    print(result.cv_results_['params'][best_10[i]], '\\n')\n",
        "\n",
        "print_10_best(result)"
      ],
      "execution_count": 257,
      "outputs": [
        {
          "output_type": "stream",
          "text": [
            "nan\n",
            "{'C': 0.47774172475935767, 'multi_class': 'multinomial', 'penalty': 'l1', 'solver': 'lbfgs'} \n",
            "\n",
            "nan\n",
            "{'C': 65.22465359726905, 'multi_class': 'ovr', 'penalty': 'l1', 'solver': 'newton-cg'} \n",
            "\n",
            "nan\n",
            "{'C': 0.7544031147678008, 'multi_class': 'ovr', 'penalty': 'l1', 'solver': 'newton-cg'} \n",
            "\n",
            "nan\n",
            "{'C': 0.014740433620784678, 'multi_class': 'ovr', 'penalty': 'l1', 'solver': 'lbfgs'} \n",
            "\n",
            "nan\n",
            "{'C': 0.007854253333141461, 'multi_class': 'multinomial', 'penalty': 'l2', 'solver': 'liblinear'} \n",
            "\n",
            "0.54\n",
            "{'C': 51.17535273948627, 'multi_class': 'ovr', 'penalty': 'l1', 'solver': 'liblinear'} \n",
            "\n",
            "nan\n",
            "{'C': 0.003127848869971917, 'multi_class': 'ovr', 'penalty': 'l1', 'solver': 'lbfgs'} \n",
            "\n",
            "0.5191666666666667\n",
            "{'C': 0.0254147125594169, 'multi_class': 'multinomial', 'penalty': 'l2', 'solver': 'newton-cg'} \n",
            "\n",
            "nan\n",
            "{'C': 0.003127848869971917, 'multi_class': 'ovr', 'penalty': 'l1', 'solver': 'lbfgs'} \n",
            "\n",
            "nan\n",
            "{'C': 0.04869417438121507, 'multi_class': 'multinomial', 'penalty': 'l1', 'solver': 'lbfgs'} \n",
            "\n"
          ],
          "name": "stdout"
        }
      ]
    },
    {
      "cell_type": "code",
      "metadata": {
        "id": "O_oIUY1QxMd9",
        "colab": {
          "base_uri": "https://localhost:8080/"
        },
        "outputId": "50af1e37-8933-40fe-b6e4-75566a1679cc"
      },
      "source": [
        "X_tr, X_te, y_tr, y_te = train_test_split(X_new, labels, test_size=0.2,train_size=0.8)\n",
        "model = LogisticRegression(multi_class='ovr', solver = 'liblinear', C=0.36000136157,penalty='l2')\n",
        "model.fit(X_tr, y_tr)"
      ],
      "execution_count": 262,
      "outputs": [
        {
          "output_type": "execute_result",
          "data": {
            "text/plain": [
              "LogisticRegression(C=0.36000136157, class_weight=None, dual=False,\n",
              "                   fit_intercept=True, intercept_scaling=1, l1_ratio=None,\n",
              "                   max_iter=100, multi_class='ovr', n_jobs=None, penalty='l2',\n",
              "                   random_state=None, solver='liblinear', tol=0.0001, verbose=0,\n",
              "                   warm_start=False)"
            ]
          },
          "metadata": {
            "tags": []
          },
          "execution_count": 262
        }
      ]
    },
    {
      "cell_type": "code",
      "metadata": {
        "id": "bG6zBDB4Mwhd",
        "colab": {
          "base_uri": "https://localhost:8080/",
          "height": 605
        },
        "outputId": "6f262c09-a445-4986-8989-0c819d0b1c22"
      },
      "source": [
        "pred = model.predict(X_te)\n",
        "print(\"Test: \", (accuracy_score(y_te,pred)),'\\n')\n",
        "print(confusion_matrix(y_te,pred),'\\n')\n",
        "sns.heatmap(confusion_matrix(y_te,pred), annot=True,cmap='viridis')\n",
        "print(classification_report(y_te,pred))"
      ],
      "execution_count": 263,
      "outputs": [
        {
          "output_type": "stream",
          "text": [
            "Test:  0.55 \n",
            "\n",
            "[[21  7  3  7  7]\n",
            " [ 4 25  5  2  6]\n",
            " [12  9 17  4 11]\n",
            " [ 8  2  3 28  5]\n",
            " [ 2  7  3  1 41]] \n",
            "\n",
            "              precision    recall  f1-score   support\n",
            "\n",
            "           0       0.45      0.47      0.46        45\n",
            "           1       0.50      0.60      0.54        42\n",
            "           2       0.55      0.32      0.40        53\n",
            "           3       0.67      0.61      0.64        46\n",
            "           4       0.59      0.76      0.66        54\n",
            "\n",
            "    accuracy                           0.55       240\n",
            "   macro avg       0.55      0.55      0.54       240\n",
            "weighted avg       0.55      0.55      0.54       240\n",
            "\n"
          ],
          "name": "stdout"
        },
        {
          "output_type": "display_data",
          "data": {
            "image/png": "[encoded data removed]",
            "text/plain": [
              "<Figure size 432x288 with 2 Axes>"
            ]
          },
          "metadata": {
            "tags": [],
            "needs_background": "light"
          }
        }
      ]
    },
    {
      "cell_type": "markdown",
      "metadata": {
        "id": "_pCYWkgCoMYg"
      },
      "source": [
        "# Other models:\n",
        "- Support Vector Machine\n",
        "- Extreme Gradient Boost\n",
        "- Random Forest\n"
      ]
    },
    {
      "cell_type": "code",
      "metadata": {
        "colab": {
          "base_uri": "https://localhost:8080/"
        },
        "id": "6Eq52IPCm6RR",
        "outputId": "99c1b23e-6164-4a97-e763-4611b905249f"
      },
      "source": [
        "# define model\n",
        "model = SVC()\n",
        "# define evaluation\n",
        "cv = KFold(n_splits=20, random_state=1, shuffle=True)\n",
        "#cv = RepeatedStratifiedKFold(n_splits=10, n_repeats=3, random_state=1)\n",
        "\n",
        "# define search space\n",
        "space = dict()\n",
        "space['kernel'] = ['linear', 'poly', 'rbf', 'sigmoid']\n",
        "space['C'] = loguniform(1e-5, 100)\n",
        "space['gamma'] = [1,0.1,0.01,0.001]\n",
        "# define search\n",
        "search = RandomizedSearchCV(model, space, n_iter=50, scoring='accuracy', n_jobs=-1, cv=cv, random_state=1)\n",
        "# execute search\n",
        "result = search.fit(X_new, y)\n",
        "# summarize result\n",
        "print('Best Score: %s' % result.best_score_)\n",
        "print('Best Hyperparameters: %s' % result.best_params_)\n",
        "# print out the results of the randomized search\n",
        "\n",
        "X_tr, X_te, y_tr, y_te = train_test_split(X_new, labels, test_size=0.2,train_size=0.8)\n",
        "model = SVC()\n",
        "model.fit(X_tr, y_tr)\n",
        "pred = model.predict(X_te)\n",
        "print(\"Test: \", (accuracy_score(y_te,pred)))\n",
        "print(confusion_matrix(y_te,pred))\n",
        "print(classification_report(y_te,pred))"
      ],
      "execution_count": 233,
      "outputs": [
        {
          "output_type": "stream",
          "text": [
            "Best Score: 0.7683333333333334\n",
            "Best Hyperparameters: {'C': 1.8017093069504055, 'gamma': 0.1, 'kernel': 'rbf'}\n",
            "Test:  0.7458333333333333\n",
            "[[31  3  1  5  1]\n",
            " [ 1 37  4  1  6]\n",
            " [ 3  3 25  2  8]\n",
            " [ 4  5  5 37  2]\n",
            " [ 2  2  0  3 49]]\n",
            "              precision    recall  f1-score   support\n",
            "\n",
            "           0       0.76      0.76      0.76        41\n",
            "           1       0.74      0.76      0.75        49\n",
            "           2       0.71      0.61      0.66        41\n",
            "           3       0.77      0.70      0.73        53\n",
            "           4       0.74      0.88      0.80        56\n",
            "\n",
            "    accuracy                           0.75       240\n",
            "   macro avg       0.74      0.74      0.74       240\n",
            "weighted avg       0.75      0.75      0.74       240\n",
            "\n"
          ],
          "name": "stdout"
        }
      ]
    },
    {
      "cell_type": "code",
      "metadata": {
        "colab": {
          "base_uri": "https://localhost:8080/"
        },
        "id": "y_apTZhAoUkL",
        "outputId": "3cd2d732-f0f7-4d59-bef1-09e976373b0e"
      },
      "source": [
        "X_tr, X_te, y_tr, y_te = train_test_split(features, labels, test_size=0.2,train_size=0.8)\n",
        "model = XGBClassifier()\n",
        "model.fit(X_tr, y_tr)\n",
        "pred = model.predict(X_te)\n",
        "print(\"Test: \", (accuracy_score(y_te,pred)))\n",
        "print(confusion_matrix(y_te,pred))\n",
        "print(classification_report(y_te,pred))"
      ],
      "execution_count": 234,
      "outputs": [
        {
          "output_type": "stream",
          "text": [
            "Test:  0.6125\n",
            "[[29  7  6  2  1]\n",
            " [ 3 28  5  7  5]\n",
            " [10  3 23  6 13]\n",
            " [ 4  0  7 26  4]\n",
            " [ 2  4  3  1 41]]\n",
            "              precision    recall  f1-score   support\n",
            "\n",
            "           0       0.60      0.64      0.62        45\n",
            "           1       0.67      0.58      0.62        48\n",
            "           2       0.52      0.42      0.46        55\n",
            "           3       0.62      0.63      0.63        41\n",
            "           4       0.64      0.80      0.71        51\n",
            "\n",
            "    accuracy                           0.61       240\n",
            "   macro avg       0.61      0.62      0.61       240\n",
            "weighted avg       0.61      0.61      0.61       240\n",
            "\n"
          ],
          "name": "stdout"
        }
      ]
    },
    {
      "cell_type": "code",
      "metadata": {
        "colab": {
          "base_uri": "https://localhost:8080/"
        },
        "id": "B2bYQCUfolJW",
        "outputId": "a6e8483a-3f29-4869-f0f0-aa5de82bcd08"
      },
      "source": [
        "X_tr, X_te, y_tr, y_te = train_test_split(X_new, labels, test_size=0.2,train_size=0.8)\n",
        "model = RandomForestClassifier()\n",
        "model.fit(X_tr, y_tr)\n",
        "pred = model.predict(X_te)\n",
        "print(\"Test: \", (accuracy_score(y_te,pred)))\n",
        "print(confusion_matrix(y_te,pred))\n",
        "print(classification_report(y_te,pred))"
      ],
      "execution_count": 235,
      "outputs": [
        {
          "output_type": "stream",
          "text": [
            "Test:  0.6541666666666667\n",
            "[[37  3  4  4  8]\n",
            " [ 1 31  6  7  2]\n",
            " [ 4  0 27  2  7]\n",
            " [ 5  1 12 29  6]\n",
            " [ 1  4  3  3 33]]\n",
            "              precision    recall  f1-score   support\n",
            "\n",
            "           0       0.77      0.66      0.71        56\n",
            "           1       0.79      0.66      0.72        47\n",
            "           2       0.52      0.68      0.59        40\n",
            "           3       0.64      0.55      0.59        53\n",
            "           4       0.59      0.75      0.66        44\n",
            "\n",
            "    accuracy                           0.65       240\n",
            "   macro avg       0.66      0.66      0.65       240\n",
            "weighted avg       0.67      0.65      0.66       240\n",
            "\n"
          ],
          "name": "stdout"
        }
      ]
    },
    {
      "cell_type": "code",
      "metadata": {
        "id": "GDQx10nS-CrB"
      },
      "source": [
        "# define baseline model\n",
        "def baseline_model():\n",
        "\t# create model\n",
        "\tmodel = Sequential()\n",
        "\tmodel.add(Dense(8, input_dim=29, activation='relu'))\n",
        "\tmodel.add(Dense(5, activation='softmax'))\n",
        "\t# Compile model\n",
        "\tmodel.compile(loss='categorical_crossentropy', optimizer='adam', metrics=['accuracy'])\n",
        "\treturn model"
      ],
      "execution_count": 289,
      "outputs": []
    },
    {
      "cell_type": "code",
      "metadata": {
        "id": "6jqlvcZbBOsf"
      },
      "source": [
        "estimator = KerasClassifier(build_fn=baseline_model, epochs=200, batch_size=5, verbose=0)\n",
        "kfold = KFold(n_splits=10, shuffle=True)\n",
        "results = cross_val_score(estimator, X_new, y, cv=kfold)\n"
      ],
      "execution_count": 290,
      "outputs": []
    },
    {
      "cell_type": "code",
      "metadata": {
        "colab": {
          "base_uri": "https://localhost:8080/"
        },
        "id": "ddtMd2f7BUgb",
        "outputId": "827e75cf-b10a-4179-efa6-e7f65f9b436e"
      },
      "source": [
        "print(\"Baseline: %.2f%% (%.2f%%)\" % (results.mean()*100, results.std()*100))"
      ],
      "execution_count": 291,
      "outputs": [
        {
          "output_type": "stream",
          "text": [
            "Baseline: 59.08% (3.42%)\n"
          ],
          "name": "stdout"
        }
      ]
    },
    {
      "cell_type": "code",
      "metadata": {
        "id": "Kdb0yjKxGYdX"
      },
      "source": [
        ""
      ],
      "execution_count": null,
      "outputs": []
    }
  ]
}